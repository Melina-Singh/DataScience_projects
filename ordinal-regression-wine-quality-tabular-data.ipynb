{
 "cells": [
  {
   "cell_type": "code",
   "execution_count": 1,
   "id": "6f41ec67",
   "metadata": {
    "_cell_guid": "b1076dfc-b9ad-4769-8c92-a6c4dae69d19",
    "_uuid": "8f2839f25d086af736a60e9eeb907d3b93b6e0e5",
    "execution": {
     "iopub.execute_input": "2023-05-16T05:38:48.882080Z",
     "iopub.status.busy": "2023-05-16T05:38:48.881425Z",
     "iopub.status.idle": "2023-05-16T05:38:50.147694Z",
     "shell.execute_reply": "2023-05-16T05:38:50.146519Z"
    },
    "papermill": {
     "duration": 1.280801,
     "end_time": "2023-05-16T05:38:50.150567",
     "exception": false,
     "start_time": "2023-05-16T05:38:48.869766",
     "status": "completed"
    },
    "tags": []
   },
   "outputs": [
    {
     "name": "stderr",
     "output_type": "stream",
     "text": [
      "/opt/conda/lib/python3.10/site-packages/scipy/__init__.py:146: UserWarning: A NumPy version >=1.16.5 and <1.23.0 is required for this version of SciPy (detected version 1.23.5\n",
      "  warnings.warn(f\"A NumPy version >={np_minversion} and <{np_maxversion}\"\n"
     ]
    }
   ],
   "source": [
    "import numpy as np # linear algebra\n",
    "import pandas as pd # train_data processing, CSV file I/O (e.g. pd.read_csv)\n",
    "import matplotlib.pyplot as plt\n",
    "import seaborn as sns\n"
   ]
  },
  {
   "cell_type": "code",
   "execution_count": 2,
   "id": "bfaab2f3",
   "metadata": {
    "execution": {
     "iopub.execute_input": "2023-05-16T05:38:50.171634Z",
     "iopub.status.busy": "2023-05-16T05:38:50.171256Z",
     "iopub.status.idle": "2023-05-16T05:38:50.207904Z",
     "shell.execute_reply": "2023-05-16T05:38:50.206787Z"
    },
    "papermill": {
     "duration": 0.050194,
     "end_time": "2023-05-16T05:38:50.210672",
     "exception": false,
     "start_time": "2023-05-16T05:38:50.160478",
     "status": "completed"
    },
    "tags": []
   },
   "outputs": [],
   "source": [
    "train_data = pd.read_csv(\"/kaggle/input/playground-series-s3e5/train.csv\")\n",
    "submission = pd.read_csv(\"/kaggle/input/playground-series-s3e5/sample_submission.csv\")"
   ]
  },
  {
   "cell_type": "markdown",
   "id": "72d62779",
   "metadata": {
    "papermill": {
     "duration": 0.009713,
     "end_time": "2023-05-16T05:38:50.230264",
     "exception": false,
     "start_time": "2023-05-16T05:38:50.220551",
     "status": "completed"
    },
    "tags": []
   },
   "source": [
    "### Preprocessing and analysing the train_data"
   ]
  },
  {
   "cell_type": "code",
   "execution_count": 3,
   "id": "a092b73d",
   "metadata": {
    "execution": {
     "iopub.execute_input": "2023-05-16T05:38:50.251542Z",
     "iopub.status.busy": "2023-05-16T05:38:50.250972Z",
     "iopub.status.idle": "2023-05-16T05:38:50.296936Z",
     "shell.execute_reply": "2023-05-16T05:38:50.296018Z"
    },
    "papermill": {
     "duration": 0.05973,
     "end_time": "2023-05-16T05:38:50.299654",
     "exception": false,
     "start_time": "2023-05-16T05:38:50.239924",
     "status": "completed"
    },
    "tags": []
   },
   "outputs": [
    {
     "data": {
      "text/html": [
       "<div>\n",
       "<style scoped>\n",
       "    .dataframe tbody tr th:only-of-type {\n",
       "        vertical-align: middle;\n",
       "    }\n",
       "\n",
       "    .dataframe tbody tr th {\n",
       "        vertical-align: top;\n",
       "    }\n",
       "\n",
       "    .dataframe thead th {\n",
       "        text-align: right;\n",
       "    }\n",
       "</style>\n",
       "<table border=\"1\" class=\"dataframe\">\n",
       "  <thead>\n",
       "    <tr style=\"text-align: right;\">\n",
       "      <th></th>\n",
       "      <th>Id</th>\n",
       "      <th>fixed acidity</th>\n",
       "      <th>volatile acidity</th>\n",
       "      <th>citric acid</th>\n",
       "      <th>residual sugar</th>\n",
       "      <th>chlorides</th>\n",
       "      <th>free sulfur dioxide</th>\n",
       "      <th>total sulfur dioxide</th>\n",
       "      <th>density</th>\n",
       "      <th>pH</th>\n",
       "      <th>sulphates</th>\n",
       "      <th>alcohol</th>\n",
       "      <th>quality</th>\n",
       "    </tr>\n",
       "  </thead>\n",
       "  <tbody>\n",
       "    <tr>\n",
       "      <th>1538</th>\n",
       "      <td>1538</td>\n",
       "      <td>9.9</td>\n",
       "      <td>0.74</td>\n",
       "      <td>0.21</td>\n",
       "      <td>3.00</td>\n",
       "      <td>0.087</td>\n",
       "      <td>21.0</td>\n",
       "      <td>67.0</td>\n",
       "      <td>1.00040</td>\n",
       "      <td>3.38</td>\n",
       "      <td>0.57</td>\n",
       "      <td>9.5</td>\n",
       "      <td>5</td>\n",
       "    </tr>\n",
       "    <tr>\n",
       "      <th>627</th>\n",
       "      <td>627</td>\n",
       "      <td>8.3</td>\n",
       "      <td>0.30</td>\n",
       "      <td>0.33</td>\n",
       "      <td>2.40</td>\n",
       "      <td>0.085</td>\n",
       "      <td>26.0</td>\n",
       "      <td>53.0</td>\n",
       "      <td>0.99484</td>\n",
       "      <td>3.27</td>\n",
       "      <td>0.62</td>\n",
       "      <td>12.3</td>\n",
       "      <td>6</td>\n",
       "    </tr>\n",
       "    <tr>\n",
       "      <th>1331</th>\n",
       "      <td>1331</td>\n",
       "      <td>8.3</td>\n",
       "      <td>0.70</td>\n",
       "      <td>0.24</td>\n",
       "      <td>2.20</td>\n",
       "      <td>0.100</td>\n",
       "      <td>5.0</td>\n",
       "      <td>15.0</td>\n",
       "      <td>0.99760</td>\n",
       "      <td>3.12</td>\n",
       "      <td>0.49</td>\n",
       "      <td>9.3</td>\n",
       "      <td>5</td>\n",
       "    </tr>\n",
       "    <tr>\n",
       "      <th>1585</th>\n",
       "      <td>1585</td>\n",
       "      <td>7.1</td>\n",
       "      <td>0.62</td>\n",
       "      <td>0.12</td>\n",
       "      <td>4.65</td>\n",
       "      <td>0.072</td>\n",
       "      <td>21.0</td>\n",
       "      <td>65.0</td>\n",
       "      <td>0.99746</td>\n",
       "      <td>3.42</td>\n",
       "      <td>0.64</td>\n",
       "      <td>10.9</td>\n",
       "      <td>6</td>\n",
       "    </tr>\n",
       "    <tr>\n",
       "      <th>1451</th>\n",
       "      <td>1451</td>\n",
       "      <td>9.9</td>\n",
       "      <td>0.50</td>\n",
       "      <td>0.35</td>\n",
       "      <td>2.70</td>\n",
       "      <td>0.116</td>\n",
       "      <td>17.0</td>\n",
       "      <td>53.0</td>\n",
       "      <td>0.99786</td>\n",
       "      <td>3.17</td>\n",
       "      <td>0.62</td>\n",
       "      <td>10.5</td>\n",
       "      <td>5</td>\n",
       "    </tr>\n",
       "  </tbody>\n",
       "</table>\n",
       "</div>"
      ],
      "text/plain": [
       "        Id  fixed acidity  volatile acidity  citric acid  residual sugar  \\\n",
       "1538  1538            9.9              0.74         0.21            3.00   \n",
       "627    627            8.3              0.30         0.33            2.40   \n",
       "1331  1331            8.3              0.70         0.24            2.20   \n",
       "1585  1585            7.1              0.62         0.12            4.65   \n",
       "1451  1451            9.9              0.50         0.35            2.70   \n",
       "\n",
       "      chlorides  free sulfur dioxide  total sulfur dioxide  density    pH  \\\n",
       "1538      0.087                 21.0                  67.0  1.00040  3.38   \n",
       "627       0.085                 26.0                  53.0  0.99484  3.27   \n",
       "1331      0.100                  5.0                  15.0  0.99760  3.12   \n",
       "1585      0.072                 21.0                  65.0  0.99746  3.42   \n",
       "1451      0.116                 17.0                  53.0  0.99786  3.17   \n",
       "\n",
       "      sulphates  alcohol  quality  \n",
       "1538       0.57      9.5        5  \n",
       "627        0.62     12.3        6  \n",
       "1331       0.49      9.3        5  \n",
       "1585       0.64     10.9        6  \n",
       "1451       0.62     10.5        5  "
      ]
     },
     "execution_count": 3,
     "metadata": {},
     "output_type": "execute_result"
    }
   ],
   "source": [
    "train_data.sample(5)"
   ]
  },
  {
   "cell_type": "code",
   "execution_count": 4,
   "id": "14e56421",
   "metadata": {
    "execution": {
     "iopub.execute_input": "2023-05-16T05:38:50.321647Z",
     "iopub.status.busy": "2023-05-16T05:38:50.321284Z",
     "iopub.status.idle": "2023-05-16T05:38:50.377100Z",
     "shell.execute_reply": "2023-05-16T05:38:50.375992Z"
    },
    "papermill": {
     "duration": 0.069723,
     "end_time": "2023-05-16T05:38:50.379398",
     "exception": false,
     "start_time": "2023-05-16T05:38:50.309675",
     "status": "completed"
    },
    "tags": []
   },
   "outputs": [
    {
     "data": {
      "text/html": [
       "<div>\n",
       "<style scoped>\n",
       "    .dataframe tbody tr th:only-of-type {\n",
       "        vertical-align: middle;\n",
       "    }\n",
       "\n",
       "    .dataframe tbody tr th {\n",
       "        vertical-align: top;\n",
       "    }\n",
       "\n",
       "    .dataframe thead th {\n",
       "        text-align: right;\n",
       "    }\n",
       "</style>\n",
       "<table border=\"1\" class=\"dataframe\">\n",
       "  <thead>\n",
       "    <tr style=\"text-align: right;\">\n",
       "      <th></th>\n",
       "      <th>Id</th>\n",
       "      <th>fixed acidity</th>\n",
       "      <th>volatile acidity</th>\n",
       "      <th>citric acid</th>\n",
       "      <th>residual sugar</th>\n",
       "      <th>chlorides</th>\n",
       "      <th>free sulfur dioxide</th>\n",
       "      <th>total sulfur dioxide</th>\n",
       "      <th>density</th>\n",
       "      <th>pH</th>\n",
       "      <th>sulphates</th>\n",
       "      <th>alcohol</th>\n",
       "      <th>quality</th>\n",
       "    </tr>\n",
       "  </thead>\n",
       "  <tbody>\n",
       "    <tr>\n",
       "      <th>count</th>\n",
       "      <td>2056.000000</td>\n",
       "      <td>2056.000000</td>\n",
       "      <td>2056.000000</td>\n",
       "      <td>2056.000000</td>\n",
       "      <td>2056.000000</td>\n",
       "      <td>2056.000000</td>\n",
       "      <td>2056.000000</td>\n",
       "      <td>2056.000000</td>\n",
       "      <td>2056.000000</td>\n",
       "      <td>2056.000000</td>\n",
       "      <td>2056.000000</td>\n",
       "      <td>2056.000000</td>\n",
       "      <td>2056.000000</td>\n",
       "    </tr>\n",
       "    <tr>\n",
       "      <th>mean</th>\n",
       "      <td>1027.500000</td>\n",
       "      <td>8.365175</td>\n",
       "      <td>0.527601</td>\n",
       "      <td>0.265058</td>\n",
       "      <td>2.398881</td>\n",
       "      <td>0.081856</td>\n",
       "      <td>16.955982</td>\n",
       "      <td>49.236868</td>\n",
       "      <td>0.996748</td>\n",
       "      <td>3.310569</td>\n",
       "      <td>0.641308</td>\n",
       "      <td>10.414972</td>\n",
       "      <td>5.720817</td>\n",
       "    </tr>\n",
       "    <tr>\n",
       "      <th>std</th>\n",
       "      <td>593.660397</td>\n",
       "      <td>1.705390</td>\n",
       "      <td>0.173164</td>\n",
       "      <td>0.188267</td>\n",
       "      <td>0.858824</td>\n",
       "      <td>0.023729</td>\n",
       "      <td>10.009710</td>\n",
       "      <td>32.961141</td>\n",
       "      <td>0.001827</td>\n",
       "      <td>0.142321</td>\n",
       "      <td>0.137942</td>\n",
       "      <td>1.028825</td>\n",
       "      <td>0.853146</td>\n",
       "    </tr>\n",
       "    <tr>\n",
       "      <th>min</th>\n",
       "      <td>0.000000</td>\n",
       "      <td>5.000000</td>\n",
       "      <td>0.180000</td>\n",
       "      <td>0.000000</td>\n",
       "      <td>1.200000</td>\n",
       "      <td>0.012000</td>\n",
       "      <td>1.000000</td>\n",
       "      <td>7.000000</td>\n",
       "      <td>0.990070</td>\n",
       "      <td>2.740000</td>\n",
       "      <td>0.390000</td>\n",
       "      <td>8.700000</td>\n",
       "      <td>3.000000</td>\n",
       "    </tr>\n",
       "    <tr>\n",
       "      <th>25%</th>\n",
       "      <td>513.750000</td>\n",
       "      <td>7.200000</td>\n",
       "      <td>0.390000</td>\n",
       "      <td>0.090000</td>\n",
       "      <td>1.900000</td>\n",
       "      <td>0.071000</td>\n",
       "      <td>8.000000</td>\n",
       "      <td>22.000000</td>\n",
       "      <td>0.995600</td>\n",
       "      <td>3.200000</td>\n",
       "      <td>0.550000</td>\n",
       "      <td>9.500000</td>\n",
       "      <td>5.000000</td>\n",
       "    </tr>\n",
       "    <tr>\n",
       "      <th>50%</th>\n",
       "      <td>1027.500000</td>\n",
       "      <td>7.950000</td>\n",
       "      <td>0.520000</td>\n",
       "      <td>0.250000</td>\n",
       "      <td>2.200000</td>\n",
       "      <td>0.079000</td>\n",
       "      <td>16.000000</td>\n",
       "      <td>44.000000</td>\n",
       "      <td>0.996700</td>\n",
       "      <td>3.310000</td>\n",
       "      <td>0.610000</td>\n",
       "      <td>10.100000</td>\n",
       "      <td>6.000000</td>\n",
       "    </tr>\n",
       "    <tr>\n",
       "      <th>75%</th>\n",
       "      <td>1541.250000</td>\n",
       "      <td>9.200000</td>\n",
       "      <td>0.640000</td>\n",
       "      <td>0.420000</td>\n",
       "      <td>2.600000</td>\n",
       "      <td>0.090000</td>\n",
       "      <td>24.000000</td>\n",
       "      <td>65.000000</td>\n",
       "      <td>0.997800</td>\n",
       "      <td>3.390000</td>\n",
       "      <td>0.720000</td>\n",
       "      <td>11.000000</td>\n",
       "      <td>6.000000</td>\n",
       "    </tr>\n",
       "    <tr>\n",
       "      <th>max</th>\n",
       "      <td>2055.000000</td>\n",
       "      <td>15.900000</td>\n",
       "      <td>1.580000</td>\n",
       "      <td>0.760000</td>\n",
       "      <td>14.000000</td>\n",
       "      <td>0.414000</td>\n",
       "      <td>68.000000</td>\n",
       "      <td>289.000000</td>\n",
       "      <td>1.003690</td>\n",
       "      <td>3.780000</td>\n",
       "      <td>1.950000</td>\n",
       "      <td>14.000000</td>\n",
       "      <td>8.000000</td>\n",
       "    </tr>\n",
       "  </tbody>\n",
       "</table>\n",
       "</div>"
      ],
      "text/plain": [
       "                Id  fixed acidity  volatile acidity  citric acid  \\\n",
       "count  2056.000000    2056.000000       2056.000000  2056.000000   \n",
       "mean   1027.500000       8.365175          0.527601     0.265058   \n",
       "std     593.660397       1.705390          0.173164     0.188267   \n",
       "min       0.000000       5.000000          0.180000     0.000000   \n",
       "25%     513.750000       7.200000          0.390000     0.090000   \n",
       "50%    1027.500000       7.950000          0.520000     0.250000   \n",
       "75%    1541.250000       9.200000          0.640000     0.420000   \n",
       "max    2055.000000      15.900000          1.580000     0.760000   \n",
       "\n",
       "       residual sugar    chlorides  free sulfur dioxide  total sulfur dioxide  \\\n",
       "count     2056.000000  2056.000000          2056.000000           2056.000000   \n",
       "mean         2.398881     0.081856            16.955982             49.236868   \n",
       "std          0.858824     0.023729            10.009710             32.961141   \n",
       "min          1.200000     0.012000             1.000000              7.000000   \n",
       "25%          1.900000     0.071000             8.000000             22.000000   \n",
       "50%          2.200000     0.079000            16.000000             44.000000   \n",
       "75%          2.600000     0.090000            24.000000             65.000000   \n",
       "max         14.000000     0.414000            68.000000            289.000000   \n",
       "\n",
       "           density           pH    sulphates      alcohol      quality  \n",
       "count  2056.000000  2056.000000  2056.000000  2056.000000  2056.000000  \n",
       "mean      0.996748     3.310569     0.641308    10.414972     5.720817  \n",
       "std       0.001827     0.142321     0.137942     1.028825     0.853146  \n",
       "min       0.990070     2.740000     0.390000     8.700000     3.000000  \n",
       "25%       0.995600     3.200000     0.550000     9.500000     5.000000  \n",
       "50%       0.996700     3.310000     0.610000    10.100000     6.000000  \n",
       "75%       0.997800     3.390000     0.720000    11.000000     6.000000  \n",
       "max       1.003690     3.780000     1.950000    14.000000     8.000000  "
      ]
     },
     "execution_count": 4,
     "metadata": {},
     "output_type": "execute_result"
    }
   ],
   "source": [
    "train_data.describe(include = 'all')"
   ]
  },
  {
   "cell_type": "code",
   "execution_count": 5,
   "id": "a1862d59",
   "metadata": {
    "execution": {
     "iopub.execute_input": "2023-05-16T05:38:50.401779Z",
     "iopub.status.busy": "2023-05-16T05:38:50.401409Z",
     "iopub.status.idle": "2023-05-16T05:38:50.412701Z",
     "shell.execute_reply": "2023-05-16T05:38:50.411614Z"
    },
    "papermill": {
     "duration": 0.025318,
     "end_time": "2023-05-16T05:38:50.415023",
     "exception": false,
     "start_time": "2023-05-16T05:38:50.389705",
     "status": "completed"
    },
    "tags": []
   },
   "outputs": [
    {
     "data": {
      "text/plain": [
       "5    839\n",
       "6    778\n",
       "7    333\n",
       "4     55\n",
       "8     39\n",
       "3     12\n",
       "Name: quality, dtype: int64"
      ]
     },
     "execution_count": 5,
     "metadata": {},
     "output_type": "execute_result"
    }
   ],
   "source": [
    "# checking the of values in 'quality' and counting\n",
    "train_data.quality.value_counts()"
   ]
  },
  {
   "cell_type": "code",
   "execution_count": 6,
   "id": "c074b6ec",
   "metadata": {
    "execution": {
     "iopub.execute_input": "2023-05-16T05:38:50.438312Z",
     "iopub.status.busy": "2023-05-16T05:38:50.437817Z",
     "iopub.status.idle": "2023-05-16T05:38:50.446584Z",
     "shell.execute_reply": "2023-05-16T05:38:50.445594Z"
    },
    "papermill": {
     "duration": 0.022927,
     "end_time": "2023-05-16T05:38:50.448944",
     "exception": false,
     "start_time": "2023-05-16T05:38:50.426017",
     "status": "completed"
    },
    "tags": []
   },
   "outputs": [
    {
     "data": {
      "text/plain": [
       "0"
      ]
     },
     "execution_count": 6,
     "metadata": {},
     "output_type": "execute_result"
    }
   ],
   "source": [
    "# Checking the null values\n",
    "train_data.isnull().sum().sum()"
   ]
  },
  {
   "cell_type": "code",
   "execution_count": 7,
   "id": "32091f8f",
   "metadata": {
    "execution": {
     "iopub.execute_input": "2023-05-16T05:38:50.472284Z",
     "iopub.status.busy": "2023-05-16T05:38:50.471885Z",
     "iopub.status.idle": "2023-05-16T05:38:50.485311Z",
     "shell.execute_reply": "2023-05-16T05:38:50.483986Z"
    },
    "papermill": {
     "duration": 0.027733,
     "end_time": "2023-05-16T05:38:50.487559",
     "exception": false,
     "start_time": "2023-05-16T05:38:50.459826",
     "status": "completed"
    },
    "tags": []
   },
   "outputs": [
    {
     "data": {
      "text/plain": [
       "0"
      ]
     },
     "execution_count": 7,
     "metadata": {},
     "output_type": "execute_result"
    }
   ],
   "source": [
    "# checking the duplicated values\n",
    "train_data.duplicated().sum()\n"
   ]
  },
  {
   "cell_type": "code",
   "execution_count": 8,
   "id": "adaa6a40",
   "metadata": {
    "execution": {
     "iopub.execute_input": "2023-05-16T05:38:50.510996Z",
     "iopub.status.busy": "2023-05-16T05:38:50.510573Z",
     "iopub.status.idle": "2023-05-16T05:38:50.522345Z",
     "shell.execute_reply": "2023-05-16T05:38:50.521570Z"
    },
    "papermill": {
     "duration": 0.025798,
     "end_time": "2023-05-16T05:38:50.524293",
     "exception": false,
     "start_time": "2023-05-16T05:38:50.498495",
     "status": "completed"
    },
    "tags": []
   },
   "outputs": [
    {
     "data": {
      "text/plain": [
       "total sulfur dioxide   -0.225670\n",
       "volatile acidity       -0.219287\n",
       "density                -0.153198\n",
       "free sulfur dioxide    -0.060217\n",
       "chlorides              -0.046624\n",
       "pH                      0.016378\n",
       "Id                      0.025684\n",
       "residual sugar          0.048156\n",
       "fixed acidity           0.073852\n",
       "citric acid             0.141797\n",
       "sulphates               0.366939\n",
       "alcohol                 0.482833\n",
       "quality                 1.000000\n",
       "Name: quality, dtype: float64"
      ]
     },
     "execution_count": 8,
     "metadata": {},
     "output_type": "execute_result"
    }
   ],
   "source": [
    "# correlation of quality with all the other factors used in wine\n",
    "train_data.corr()['quality'].sort_values(ascending = True)\n"
   ]
  },
  {
   "cell_type": "code",
   "execution_count": 9,
   "id": "553a2512",
   "metadata": {
    "execution": {
     "iopub.execute_input": "2023-05-16T05:38:50.547938Z",
     "iopub.status.busy": "2023-05-16T05:38:50.547530Z",
     "iopub.status.idle": "2023-05-16T05:38:50.551951Z",
     "shell.execute_reply": "2023-05-16T05:38:50.550775Z"
    },
    "papermill": {
     "duration": 0.019653,
     "end_time": "2023-05-16T05:38:50.554777",
     "exception": false,
     "start_time": "2023-05-16T05:38:50.535124",
     "status": "completed"
    },
    "tags": []
   },
   "outputs": [],
   "source": [
    "# test_data.shape"
   ]
  },
  {
   "cell_type": "markdown",
   "id": "e85fc114",
   "metadata": {
    "papermill": {
     "duration": 0.01067,
     "end_time": "2023-05-16T05:38:50.576861",
     "exception": false,
     "start_time": "2023-05-16T05:38:50.566191",
     "status": "completed"
    },
    "tags": []
   },
   "source": [
    "### Visualizing the train_data"
   ]
  },
  {
   "cell_type": "code",
   "execution_count": 10,
   "id": "ba8f0d19",
   "metadata": {
    "execution": {
     "iopub.execute_input": "2023-05-16T05:38:50.601468Z",
     "iopub.status.busy": "2023-05-16T05:38:50.600680Z",
     "iopub.status.idle": "2023-05-16T05:38:51.336253Z",
     "shell.execute_reply": "2023-05-16T05:38:51.335133Z"
    },
    "papermill": {
     "duration": 0.750471,
     "end_time": "2023-05-16T05:38:51.338674",
     "exception": false,
     "start_time": "2023-05-16T05:38:50.588203",
     "status": "completed"
    },
    "tags": []
   },
   "outputs": [
    {
     "data": {
      "image/png": "[encoded data removed]",
      "text/plain": [
       "<Figure size 1000x1000 with 4 Axes>"
      ]
     },
     "metadata": {},
     "output_type": "display_data"
    }
   ],
   "source": [
    "sns_plot = sns.clustermap(train_data.corr(), cmap=\"rocket_r\")\n"
   ]
  },
  {
   "cell_type": "code",
   "execution_count": 11,
   "id": "aec94b09",
   "metadata": {
    "execution": {
     "iopub.execute_input": "2023-05-16T05:38:51.364545Z",
     "iopub.status.busy": "2023-05-16T05:38:51.363837Z",
     "iopub.status.idle": "2023-05-16T05:38:51.661879Z",
     "shell.execute_reply": "2023-05-16T05:38:51.660634Z"
    },
    "papermill": {
     "duration": 0.313983,
     "end_time": "2023-05-16T05:38:51.664401",
     "exception": false,
     "start_time": "2023-05-16T05:38:51.350418",
     "status": "completed"
    },
    "tags": []
   },
   "outputs": [
    {
     "name": "stderr",
     "output_type": "stream",
     "text": [
      "/tmp/ipykernel_20/1919730049.py:1: UserWarning: \n",
      "\n",
      "`distplot` is a deprecated function and will be removed in seaborn v0.14.0.\n",
      "\n",
      "Please adapt your code to use either `displot` (a figure-level function with\n",
      "similar flexibility) or `histplot` (an axes-level function for histograms).\n",
      "\n",
      "For a guide to updating your code to use the new functions, please see\n",
      "https://gist.github.com/mwaskom/de44147ed2974457ad6372750bbe5751\n",
      "\n",
      "  sns.distplot(train_data['quality'])\n"
     ]
    },
    {
     "data": {
      "text/plain": [
       "<AxesSubplot: xlabel='quality', ylabel='Density'>"
      ]
     },
     "execution_count": 11,
     "metadata": {},
     "output_type": "execute_result"
    },
    {
     "data": {
      "image/png": "[encoded data removed]",
      "text/plain": [
       "<Figure size 640x480 with 1 Axes>"
      ]
     },
     "metadata": {},
     "output_type": "display_data"
    }
   ],
   "source": [
    "sns.distplot(train_data['quality'])"
   ]
  },
  {
   "cell_type": "code",
   "execution_count": 12,
   "id": "e395bbd9",
   "metadata": {
    "execution": {
     "iopub.execute_input": "2023-05-16T05:38:51.692343Z",
     "iopub.status.busy": "2023-05-16T05:38:51.690963Z",
     "iopub.status.idle": "2023-05-16T05:38:52.361396Z",
     "shell.execute_reply": "2023-05-16T05:38:52.360129Z"
    },
    "papermill": {
     "duration": 0.687098,
     "end_time": "2023-05-16T05:38:52.364042",
     "exception": false,
     "start_time": "2023-05-16T05:38:51.676944",
     "status": "completed"
    },
    "tags": []
   },
   "outputs": [
    {
     "data": {
      "image/png": "[encoded data removed]",
      "text/plain": [
       "<Figure size 800x800 with 2 Axes>"
      ]
     },
     "metadata": {},
     "output_type": "display_data"
    }
   ],
   "source": [
    "fig,ax = plt.subplots(figsize =(8,8))\n",
    "sns.heatmap(train_data[['Id','fixed acidity','volatile acidity','citric acid','residual sugar','chlorides','free sulfur dioxide','total sulfur dioxide','density','pH','sulphates','alcohol','quality']])\n",
    "plt.show()"
   ]
  },
  {
   "cell_type": "code",
   "execution_count": 13,
   "id": "61149d96",
   "metadata": {
    "execution": {
     "iopub.execute_input": "2023-05-16T05:38:52.393753Z",
     "iopub.status.busy": "2023-05-16T05:38:52.393352Z",
     "iopub.status.idle": "2023-05-16T05:38:52.727779Z",
     "shell.execute_reply": "2023-05-16T05:38:52.726739Z"
    },
    "papermill": {
     "duration": 0.352066,
     "end_time": "2023-05-16T05:38:52.730103",
     "exception": false,
     "start_time": "2023-05-16T05:38:52.378037",
     "status": "completed"
    },
    "tags": []
   },
   "outputs": [
    {
     "data": {
      "text/plain": [
       "<AxesSubplot: xlabel='total sulfur dioxide', ylabel='Count'>"
      ]
     },
     "execution_count": 13,
     "metadata": {},
     "output_type": "execute_result"
    },
    {
     "data": {
      "image/png": "[encoded data removed]",
      "text/plain": [
       "<Figure size 640x480 with 1 Axes>"
      ]
     },
     "metadata": {},
     "output_type": "display_data"
    }
   ],
   "source": [
    "sns.histplot(data=train_data, x='total sulfur dioxide')"
   ]
  },
  {
   "cell_type": "code",
   "execution_count": 14,
   "id": "84e6156c",
   "metadata": {
    "execution": {
     "iopub.execute_input": "2023-05-16T05:38:52.760884Z",
     "iopub.status.busy": "2023-05-16T05:38:52.759678Z",
     "iopub.status.idle": "2023-05-16T05:38:53.057118Z",
     "shell.execute_reply": "2023-05-16T05:38:53.055986Z"
    },
    "papermill": {
     "duration": 0.315121,
     "end_time": "2023-05-16T05:38:53.059354",
     "exception": false,
     "start_time": "2023-05-16T05:38:52.744233",
     "status": "completed"
    },
    "tags": []
   },
   "outputs": [
    {
     "name": "stderr",
     "output_type": "stream",
     "text": [
      "/tmp/ipykernel_20/2058150986.py:1: UserWarning: \n",
      "\n",
      "`distplot` is a deprecated function and will be removed in seaborn v0.14.0.\n",
      "\n",
      "Please adapt your code to use either `displot` (a figure-level function with\n",
      "similar flexibility) or `histplot` (an axes-level function for histograms).\n",
      "\n",
      "For a guide to updating your code to use the new functions, please see\n",
      "https://gist.github.com/mwaskom/de44147ed2974457ad6372750bbe5751\n",
      "\n",
      "  sns.distplot(train_data['citric acid'])\n"
     ]
    },
    {
     "data": {
      "text/plain": [
       "<AxesSubplot: xlabel='citric acid', ylabel='Density'>"
      ]
     },
     "execution_count": 14,
     "metadata": {},
     "output_type": "execute_result"
    },
    {
     "data": {
      "image/png": "[encoded data removed]",
      "text/plain": [
       "<Figure size 640x480 with 1 Axes>"
      ]
     },
     "metadata": {},
     "output_type": "display_data"
    }
   ],
   "source": [
    "sns.distplot(train_data['citric acid'])"
   ]
  },
  {
   "cell_type": "markdown",
   "id": "b46cf3dd",
   "metadata": {
    "papermill": {
     "duration": 0.014576,
     "end_time": "2023-05-16T05:38:53.088551",
     "exception": false,
     "start_time": "2023-05-16T05:38:53.073975",
     "status": "completed"
    },
    "tags": []
   },
   "source": [
    "### Test Data"
   ]
  },
  {
   "cell_type": "code",
   "execution_count": 15,
   "id": "1fa49310",
   "metadata": {
    "execution": {
     "iopub.execute_input": "2023-05-16T05:38:53.120544Z",
     "iopub.status.busy": "2023-05-16T05:38:53.120116Z",
     "iopub.status.idle": "2023-05-16T05:38:53.135175Z",
     "shell.execute_reply": "2023-05-16T05:38:53.134027Z"
    },
    "papermill": {
     "duration": 0.034248,
     "end_time": "2023-05-16T05:38:53.137850",
     "exception": false,
     "start_time": "2023-05-16T05:38:53.103602",
     "status": "completed"
    },
    "tags": []
   },
   "outputs": [],
   "source": [
    "test_data = pd.read_csv('/kaggle/input/playground-series-s3e5/test.csv')"
   ]
  },
  {
   "cell_type": "code",
   "execution_count": 16,
   "id": "187113be",
   "metadata": {
    "execution": {
     "iopub.execute_input": "2023-05-16T05:38:53.170373Z",
     "iopub.status.busy": "2023-05-16T05:38:53.169578Z",
     "iopub.status.idle": "2023-05-16T05:38:53.190829Z",
     "shell.execute_reply": "2023-05-16T05:38:53.189730Z"
    },
    "papermill": {
     "duration": 0.040193,
     "end_time": "2023-05-16T05:38:53.193215",
     "exception": false,
     "start_time": "2023-05-16T05:38:53.153022",
     "status": "completed"
    },
    "tags": []
   },
   "outputs": [
    {
     "data": {
      "text/html": [
       "<div>\n",
       "<style scoped>\n",
       "    .dataframe tbody tr th:only-of-type {\n",
       "        vertical-align: middle;\n",
       "    }\n",
       "\n",
       "    .dataframe tbody tr th {\n",
       "        vertical-align: top;\n",
       "    }\n",
       "\n",
       "    .dataframe thead th {\n",
       "        text-align: right;\n",
       "    }\n",
       "</style>\n",
       "<table border=\"1\" class=\"dataframe\">\n",
       "  <thead>\n",
       "    <tr style=\"text-align: right;\">\n",
       "      <th></th>\n",
       "      <th>Id</th>\n",
       "      <th>fixed acidity</th>\n",
       "      <th>volatile acidity</th>\n",
       "      <th>citric acid</th>\n",
       "      <th>residual sugar</th>\n",
       "      <th>chlorides</th>\n",
       "      <th>free sulfur dioxide</th>\n",
       "      <th>total sulfur dioxide</th>\n",
       "      <th>density</th>\n",
       "      <th>pH</th>\n",
       "      <th>sulphates</th>\n",
       "      <th>alcohol</th>\n",
       "    </tr>\n",
       "  </thead>\n",
       "  <tbody>\n",
       "    <tr>\n",
       "      <th>0</th>\n",
       "      <td>2056</td>\n",
       "      <td>7.2</td>\n",
       "      <td>0.510</td>\n",
       "      <td>0.01</td>\n",
       "      <td>2.0</td>\n",
       "      <td>0.077</td>\n",
       "      <td>31.0</td>\n",
       "      <td>54.0</td>\n",
       "      <td>0.99748</td>\n",
       "      <td>3.39</td>\n",
       "      <td>0.59</td>\n",
       "      <td>9.8</td>\n",
       "    </tr>\n",
       "    <tr>\n",
       "      <th>1</th>\n",
       "      <td>2057</td>\n",
       "      <td>7.2</td>\n",
       "      <td>0.755</td>\n",
       "      <td>0.15</td>\n",
       "      <td>2.0</td>\n",
       "      <td>0.102</td>\n",
       "      <td>14.0</td>\n",
       "      <td>35.0</td>\n",
       "      <td>0.99586</td>\n",
       "      <td>3.33</td>\n",
       "      <td>0.68</td>\n",
       "      <td>10.0</td>\n",
       "    </tr>\n",
       "    <tr>\n",
       "      <th>2</th>\n",
       "      <td>2058</td>\n",
       "      <td>8.4</td>\n",
       "      <td>0.460</td>\n",
       "      <td>0.40</td>\n",
       "      <td>2.0</td>\n",
       "      <td>0.065</td>\n",
       "      <td>21.0</td>\n",
       "      <td>50.0</td>\n",
       "      <td>0.99774</td>\n",
       "      <td>3.08</td>\n",
       "      <td>0.65</td>\n",
       "      <td>9.5</td>\n",
       "    </tr>\n",
       "    <tr>\n",
       "      <th>3</th>\n",
       "      <td>2059</td>\n",
       "      <td>8.0</td>\n",
       "      <td>0.470</td>\n",
       "      <td>0.40</td>\n",
       "      <td>1.8</td>\n",
       "      <td>0.056</td>\n",
       "      <td>14.0</td>\n",
       "      <td>25.0</td>\n",
       "      <td>0.99480</td>\n",
       "      <td>3.30</td>\n",
       "      <td>0.65</td>\n",
       "      <td>11.7</td>\n",
       "    </tr>\n",
       "  </tbody>\n",
       "</table>\n",
       "</div>"
      ],
      "text/plain": [
       "     Id  fixed acidity  volatile acidity  citric acid  residual sugar  \\\n",
       "0  2056            7.2             0.510         0.01             2.0   \n",
       "1  2057            7.2             0.755         0.15             2.0   \n",
       "2  2058            8.4             0.460         0.40             2.0   \n",
       "3  2059            8.0             0.470         0.40             1.8   \n",
       "\n",
       "   chlorides  free sulfur dioxide  total sulfur dioxide  density    pH  \\\n",
       "0      0.077                 31.0                  54.0  0.99748  3.39   \n",
       "1      0.102                 14.0                  35.0  0.99586  3.33   \n",
       "2      0.065                 21.0                  50.0  0.99774  3.08   \n",
       "3      0.056                 14.0                  25.0  0.99480  3.30   \n",
       "\n",
       "   sulphates  alcohol  \n",
       "0       0.59      9.8  \n",
       "1       0.68     10.0  \n",
       "2       0.65      9.5  \n",
       "3       0.65     11.7  "
      ]
     },
     "execution_count": 16,
     "metadata": {},
     "output_type": "execute_result"
    }
   ],
   "source": [
    "test_data.head(4)"
   ]
  },
  {
   "cell_type": "code",
   "execution_count": 17,
   "id": "73efdfd4",
   "metadata": {
    "execution": {
     "iopub.execute_input": "2023-05-16T05:38:53.225939Z",
     "iopub.status.busy": "2023-05-16T05:38:53.225532Z",
     "iopub.status.idle": "2023-05-16T05:38:53.232337Z",
     "shell.execute_reply": "2023-05-16T05:38:53.231233Z"
    },
    "papermill": {
     "duration": 0.02635,
     "end_time": "2023-05-16T05:38:53.234699",
     "exception": false,
     "start_time": "2023-05-16T05:38:53.208349",
     "status": "completed"
    },
    "tags": []
   },
   "outputs": [
    {
     "data": {
      "text/plain": [
       "(1372, 12)"
      ]
     },
     "execution_count": 17,
     "metadata": {},
     "output_type": "execute_result"
    }
   ],
   "source": [
    "test_data.shape"
   ]
  },
  {
   "cell_type": "code",
   "execution_count": 18,
   "id": "aac3e95d",
   "metadata": {
    "execution": {
     "iopub.execute_input": "2023-05-16T05:38:53.267318Z",
     "iopub.status.busy": "2023-05-16T05:38:53.266894Z",
     "iopub.status.idle": "2023-05-16T05:38:53.275433Z",
     "shell.execute_reply": "2023-05-16T05:38:53.274228Z"
    },
    "papermill": {
     "duration": 0.02764,
     "end_time": "2023-05-16T05:38:53.277730",
     "exception": false,
     "start_time": "2023-05-16T05:38:53.250090",
     "status": "completed"
    },
    "tags": []
   },
   "outputs": [
    {
     "data": {
      "text/plain": [
       "0"
      ]
     },
     "execution_count": 18,
     "metadata": {},
     "output_type": "execute_result"
    }
   ],
   "source": [
    "test_data.isnull().sum().sum()"
   ]
  },
  {
   "cell_type": "code",
   "execution_count": 19,
   "id": "b1ac4a85",
   "metadata": {
    "execution": {
     "iopub.execute_input": "2023-05-16T05:38:53.310772Z",
     "iopub.status.busy": "2023-05-16T05:38:53.309988Z",
     "iopub.status.idle": "2023-05-16T05:38:53.360474Z",
     "shell.execute_reply": "2023-05-16T05:38:53.359417Z"
    },
    "papermill": {
     "duration": 0.069468,
     "end_time": "2023-05-16T05:38:53.362799",
     "exception": false,
     "start_time": "2023-05-16T05:38:53.293331",
     "status": "completed"
    },
    "tags": []
   },
   "outputs": [
    {
     "data": {
      "text/html": [
       "<div>\n",
       "<style scoped>\n",
       "    .dataframe tbody tr th:only-of-type {\n",
       "        vertical-align: middle;\n",
       "    }\n",
       "\n",
       "    .dataframe tbody tr th {\n",
       "        vertical-align: top;\n",
       "    }\n",
       "\n",
       "    .dataframe thead th {\n",
       "        text-align: right;\n",
       "    }\n",
       "</style>\n",
       "<table border=\"1\" class=\"dataframe\">\n",
       "  <thead>\n",
       "    <tr style=\"text-align: right;\">\n",
       "      <th></th>\n",
       "      <th>Id</th>\n",
       "      <th>fixed acidity</th>\n",
       "      <th>volatile acidity</th>\n",
       "      <th>citric acid</th>\n",
       "      <th>residual sugar</th>\n",
       "      <th>chlorides</th>\n",
       "      <th>free sulfur dioxide</th>\n",
       "      <th>total sulfur dioxide</th>\n",
       "      <th>density</th>\n",
       "      <th>pH</th>\n",
       "      <th>sulphates</th>\n",
       "      <th>alcohol</th>\n",
       "    </tr>\n",
       "  </thead>\n",
       "  <tbody>\n",
       "    <tr>\n",
       "      <th>count</th>\n",
       "      <td>1372.000000</td>\n",
       "      <td>1372.000000</td>\n",
       "      <td>1372.000000</td>\n",
       "      <td>1372.000000</td>\n",
       "      <td>1372.000000</td>\n",
       "      <td>1372.000000</td>\n",
       "      <td>1372.000000</td>\n",
       "      <td>1372.000000</td>\n",
       "      <td>1372.000000</td>\n",
       "      <td>1372.000000</td>\n",
       "      <td>1372.000000</td>\n",
       "      <td>1372.000000</td>\n",
       "    </tr>\n",
       "    <tr>\n",
       "      <th>mean</th>\n",
       "      <td>2741.500000</td>\n",
       "      <td>8.369606</td>\n",
       "      <td>0.524311</td>\n",
       "      <td>0.270569</td>\n",
       "      <td>2.415926</td>\n",
       "      <td>0.081307</td>\n",
       "      <td>17.162536</td>\n",
       "      <td>49.089286</td>\n",
       "      <td>0.996670</td>\n",
       "      <td>3.312223</td>\n",
       "      <td>0.647267</td>\n",
       "      <td>10.473081</td>\n",
       "    </tr>\n",
       "    <tr>\n",
       "      <th>std</th>\n",
       "      <td>396.206596</td>\n",
       "      <td>1.664694</td>\n",
       "      <td>0.176942</td>\n",
       "      <td>0.185731</td>\n",
       "      <td>0.921155</td>\n",
       "      <td>0.026566</td>\n",
       "      <td>9.974082</td>\n",
       "      <td>32.803721</td>\n",
       "      <td>0.001822</td>\n",
       "      <td>0.141405</td>\n",
       "      <td>0.134792</td>\n",
       "      <td>1.027170</td>\n",
       "    </tr>\n",
       "    <tr>\n",
       "      <th>min</th>\n",
       "      <td>2056.000000</td>\n",
       "      <td>4.900000</td>\n",
       "      <td>0.120000</td>\n",
       "      <td>0.000000</td>\n",
       "      <td>1.300000</td>\n",
       "      <td>0.012000</td>\n",
       "      <td>1.000000</td>\n",
       "      <td>8.000000</td>\n",
       "      <td>0.990070</td>\n",
       "      <td>2.740000</td>\n",
       "      <td>0.390000</td>\n",
       "      <td>8.800000</td>\n",
       "    </tr>\n",
       "    <tr>\n",
       "      <th>25%</th>\n",
       "      <td>2398.750000</td>\n",
       "      <td>7.100000</td>\n",
       "      <td>0.390000</td>\n",
       "      <td>0.110000</td>\n",
       "      <td>2.000000</td>\n",
       "      <td>0.070000</td>\n",
       "      <td>8.000000</td>\n",
       "      <td>23.000000</td>\n",
       "      <td>0.995380</td>\n",
       "      <td>3.210000</td>\n",
       "      <td>0.550000</td>\n",
       "      <td>9.600000</td>\n",
       "    </tr>\n",
       "    <tr>\n",
       "      <th>50%</th>\n",
       "      <td>2741.500000</td>\n",
       "      <td>7.900000</td>\n",
       "      <td>0.500000</td>\n",
       "      <td>0.260000</td>\n",
       "      <td>2.200000</td>\n",
       "      <td>0.078000</td>\n",
       "      <td>16.000000</td>\n",
       "      <td>43.000000</td>\n",
       "      <td>0.996600</td>\n",
       "      <td>3.310000</td>\n",
       "      <td>0.620000</td>\n",
       "      <td>10.200000</td>\n",
       "    </tr>\n",
       "    <tr>\n",
       "      <th>75%</th>\n",
       "      <td>3084.250000</td>\n",
       "      <td>9.100000</td>\n",
       "      <td>0.635000</td>\n",
       "      <td>0.420000</td>\n",
       "      <td>2.500000</td>\n",
       "      <td>0.087000</td>\n",
       "      <td>24.000000</td>\n",
       "      <td>66.000000</td>\n",
       "      <td>0.997800</td>\n",
       "      <td>3.390000</td>\n",
       "      <td>0.730000</td>\n",
       "      <td>11.200000</td>\n",
       "    </tr>\n",
       "    <tr>\n",
       "      <th>max</th>\n",
       "      <td>3427.000000</td>\n",
       "      <td>15.600000</td>\n",
       "      <td>1.330000</td>\n",
       "      <td>0.760000</td>\n",
       "      <td>8.300000</td>\n",
       "      <td>0.467000</td>\n",
       "      <td>68.000000</td>\n",
       "      <td>165.000000</td>\n",
       "      <td>1.003200</td>\n",
       "      <td>4.010000</td>\n",
       "      <td>1.620000</td>\n",
       "      <td>14.000000</td>\n",
       "    </tr>\n",
       "  </tbody>\n",
       "</table>\n",
       "</div>"
      ],
      "text/plain": [
       "                Id  fixed acidity  volatile acidity  citric acid  \\\n",
       "count  1372.000000    1372.000000       1372.000000  1372.000000   \n",
       "mean   2741.500000       8.369606          0.524311     0.270569   \n",
       "std     396.206596       1.664694          0.176942     0.185731   \n",
       "min    2056.000000       4.900000          0.120000     0.000000   \n",
       "25%    2398.750000       7.100000          0.390000     0.110000   \n",
       "50%    2741.500000       7.900000          0.500000     0.260000   \n",
       "75%    3084.250000       9.100000          0.635000     0.420000   \n",
       "max    3427.000000      15.600000          1.330000     0.760000   \n",
       "\n",
       "       residual sugar    chlorides  free sulfur dioxide  total sulfur dioxide  \\\n",
       "count     1372.000000  1372.000000          1372.000000           1372.000000   \n",
       "mean         2.415926     0.081307            17.162536             49.089286   \n",
       "std          0.921155     0.026566             9.974082             32.803721   \n",
       "min          1.300000     0.012000             1.000000              8.000000   \n",
       "25%          2.000000     0.070000             8.000000             23.000000   \n",
       "50%          2.200000     0.078000            16.000000             43.000000   \n",
       "75%          2.500000     0.087000            24.000000             66.000000   \n",
       "max          8.300000     0.467000            68.000000            165.000000   \n",
       "\n",
       "           density           pH    sulphates      alcohol  \n",
       "count  1372.000000  1372.000000  1372.000000  1372.000000  \n",
       "mean      0.996670     3.312223     0.647267    10.473081  \n",
       "std       0.001822     0.141405     0.134792     1.027170  \n",
       "min       0.990070     2.740000     0.390000     8.800000  \n",
       "25%       0.995380     3.210000     0.550000     9.600000  \n",
       "50%       0.996600     3.310000     0.620000    10.200000  \n",
       "75%       0.997800     3.390000     0.730000    11.200000  \n",
       "max       1.003200     4.010000     1.620000    14.000000  "
      ]
     },
     "execution_count": 19,
     "metadata": {},
     "output_type": "execute_result"
    }
   ],
   "source": [
    "test_data.describe()"
   ]
  },
  {
   "cell_type": "markdown",
   "id": "6a0757e9",
   "metadata": {
    "papermill": {
     "duration": 0.015627,
     "end_time": "2023-05-16T05:38:53.394360",
     "exception": false,
     "start_time": "2023-05-16T05:38:53.378733",
     "status": "completed"
    },
    "tags": []
   },
   "source": [
    "### Training the data "
   ]
  },
  {
   "cell_type": "code",
   "execution_count": 20,
   "id": "a7a97f24",
   "metadata": {
    "execution": {
     "iopub.execute_input": "2023-05-16T05:38:53.427464Z",
     "iopub.status.busy": "2023-05-16T05:38:53.427081Z",
     "iopub.status.idle": "2023-05-16T05:38:54.238520Z",
     "shell.execute_reply": "2023-05-16T05:38:54.236799Z"
    },
    "papermill": {
     "duration": 0.831469,
     "end_time": "2023-05-16T05:38:54.241665",
     "exception": false,
     "start_time": "2023-05-16T05:38:53.410196",
     "status": "completed"
    },
    "tags": []
   },
   "outputs": [],
   "source": [
    "from sklearn.preprocessing import StandardScaler\n",
    "from sklearn.metrics import accuracy_score\n",
    "from sklearn.model_selection import train_test_split\n",
    "from sklearn.linear_model import LogisticRegression\n",
    "from sklearn.ensemble import RandomForestClassifier"
   ]
  },
  {
   "cell_type": "code",
   "execution_count": 21,
   "id": "e5d55671",
   "metadata": {
    "execution": {
     "iopub.execute_input": "2023-05-16T05:38:54.280475Z",
     "iopub.status.busy": "2023-05-16T05:38:54.279565Z",
     "iopub.status.idle": "2023-05-16T05:38:54.286643Z",
     "shell.execute_reply": "2023-05-16T05:38:54.285567Z"
    },
    "papermill": {
     "duration": 0.027879,
     "end_time": "2023-05-16T05:38:54.288956",
     "exception": false,
     "start_time": "2023-05-16T05:38:54.261077",
     "status": "completed"
    },
    "tags": []
   },
   "outputs": [],
   "source": [
    "x=train_data.drop('quality',axis=1)\n",
    "y=train_data['quality']"
   ]
  },
  {
   "cell_type": "code",
   "execution_count": 22,
   "id": "c2e6e693",
   "metadata": {
    "execution": {
     "iopub.execute_input": "2023-05-16T05:38:54.328564Z",
     "iopub.status.busy": "2023-05-16T05:38:54.327630Z",
     "iopub.status.idle": "2023-05-16T05:38:54.350433Z",
     "shell.execute_reply": "2023-05-16T05:38:54.349130Z"
    },
    "papermill": {
     "duration": 0.047783,
     "end_time": "2023-05-16T05:38:54.352942",
     "exception": false,
     "start_time": "2023-05-16T05:38:54.305159",
     "status": "completed"
    },
    "tags": []
   },
   "outputs": [
    {
     "name": "stdout",
     "output_type": "stream",
     "text": [
      "        Id  fixed acidity  volatile acidity  citric acid  residual sugar  \\\n",
      "0        0            8.0              0.50         0.39            2.20   \n",
      "1        1            9.3              0.30         0.73            2.30   \n",
      "2        2            7.1              0.51         0.03            2.10   \n",
      "3        3            8.1              0.87         0.22            2.60   \n",
      "4        4            8.5              0.36         0.30            2.30   \n",
      "...    ...            ...               ...          ...             ...   \n",
      "2051  2051            6.6              0.31         0.13            2.00   \n",
      "2052  2052            9.7              0.59         0.21            1.80   \n",
      "2053  2053            7.7              0.43         0.42            1.70   \n",
      "2054  2054            9.1              0.50         0.00            1.75   \n",
      "2055  2055            6.2              0.31         0.18            2.30   \n",
      "\n",
      "      chlorides  free sulfur dioxide  total sulfur dioxide  density    pH  \\\n",
      "0         0.073                 30.0                  39.0  0.99572  3.33   \n",
      "1         0.092                 30.0                  67.0  0.99854  3.32   \n",
      "2         0.059                  3.0                  12.0  0.99660  3.52   \n",
      "3         0.084                 11.0                  65.0  0.99730  3.20   \n",
      "4         0.079                 10.0                  45.0  0.99444  3.20   \n",
      "...         ...                  ...                   ...      ...   ...   \n",
      "2051      0.056                 29.0                  42.0  0.99388  3.52   \n",
      "2052      0.079                 27.0                  65.0  0.99745  3.14   \n",
      "2053      0.071                 19.0                  37.0  0.99258  3.32   \n",
      "2054      0.058                  5.0                  13.0  0.99670  3.22   \n",
      "2055      0.059                 12.0                  28.0  0.99520  3.56   \n",
      "\n",
      "      sulphates  alcohol  \n",
      "0          0.77     12.1  \n",
      "1          0.67     12.8  \n",
      "2          0.73     11.3  \n",
      "3          0.53      9.8  \n",
      "4          1.36      9.5  \n",
      "...         ...      ...  \n",
      "2051       0.87     12.0  \n",
      "2052       0.58      9.4  \n",
      "2053       0.77     12.5  \n",
      "2054       0.42      9.5  \n",
      "2055       0.88     11.4  \n",
      "\n",
      "[2056 rows x 12 columns]\n",
      "0       6\n",
      "1       6\n",
      "2       7\n",
      "3       5\n",
      "4       6\n",
      "       ..\n",
      "2051    7\n",
      "2052    5\n",
      "2053    8\n",
      "2054    5\n",
      "2055    7\n",
      "Name: quality, Length: 2056, dtype: int64\n"
     ]
    }
   ],
   "source": [
    "print(x)\n",
    "print(y)"
   ]
  },
  {
   "cell_type": "code",
   "execution_count": 23,
   "id": "0aea3a57",
   "metadata": {
    "execution": {
     "iopub.execute_input": "2023-05-16T05:38:54.388199Z",
     "iopub.status.busy": "2023-05-16T05:38:54.387264Z",
     "iopub.status.idle": "2023-05-16T05:38:54.395782Z",
     "shell.execute_reply": "2023-05-16T05:38:54.394499Z"
    },
    "papermill": {
     "duration": 0.028932,
     "end_time": "2023-05-16T05:38:54.398282",
     "exception": false,
     "start_time": "2023-05-16T05:38:54.369350",
     "status": "completed"
    },
    "tags": []
   },
   "outputs": [],
   "source": [
    "x_train, x_test, y_train, y_test = train_test_split(x, y, test_size=0.4, random_state=42)"
   ]
  },
  {
   "cell_type": "code",
   "execution_count": 24,
   "id": "985e2b2f",
   "metadata": {
    "execution": {
     "iopub.execute_input": "2023-05-16T05:38:54.435128Z",
     "iopub.status.busy": "2023-05-16T05:38:54.434236Z",
     "iopub.status.idle": "2023-05-16T05:38:54.448196Z",
     "shell.execute_reply": "2023-05-16T05:38:54.447036Z"
    },
    "papermill": {
     "duration": 0.036163,
     "end_time": "2023-05-16T05:38:54.450895",
     "exception": false,
     "start_time": "2023-05-16T05:38:54.414732",
     "status": "completed"
    },
    "tags": []
   },
   "outputs": [],
   "source": [
    "# normalizing the data \n",
    "scaler = StandardScaler()\n",
    "x_train = scaler.fit_transform(x_train)\n",
    "x_test = scaler.transform(x_test)"
   ]
  },
  {
   "cell_type": "code",
   "execution_count": 25,
   "id": "0b3ce79d",
   "metadata": {
    "execution": {
     "iopub.execute_input": "2023-05-16T05:38:54.488464Z",
     "iopub.status.busy": "2023-05-16T05:38:54.488032Z",
     "iopub.status.idle": "2023-05-16T05:38:54.541526Z",
     "shell.execute_reply": "2023-05-16T05:38:54.540191Z"
    },
    "papermill": {
     "duration": 0.075823,
     "end_time": "2023-05-16T05:38:54.543995",
     "exception": false,
     "start_time": "2023-05-16T05:38:54.468172",
     "status": "completed"
    },
    "tags": []
   },
   "outputs": [
    {
     "name": "stdout",
     "output_type": "stream",
     "text": [
      "Accuracy: 55.04%\n"
     ]
    }
   ],
   "source": [
    "logreg = LogisticRegression()\n",
    "logreg.fit(x_train, y_train)\n",
    "y_pred = logreg.predict(x_test)\n",
    "accuracy = round(accuracy_score(y_test, y_pred) * 100, 2)\n",
    "print(\"Accuracy: {}%\".format(accuracy))"
   ]
  },
  {
   "cell_type": "code",
   "execution_count": 26,
   "id": "2f23451a",
   "metadata": {
    "execution": {
     "iopub.execute_input": "2023-05-16T05:38:54.578820Z",
     "iopub.status.busy": "2023-05-16T05:38:54.578444Z",
     "iopub.status.idle": "2023-05-16T05:38:55.092699Z",
     "shell.execute_reply": "2023-05-16T05:38:55.091557Z"
    },
    "papermill": {
     "duration": 0.535287,
     "end_time": "2023-05-16T05:38:55.095723",
     "exception": false,
     "start_time": "2023-05-16T05:38:54.560436",
     "status": "completed"
    },
    "tags": []
   },
   "outputs": [
    {
     "name": "stdout",
     "output_type": "stream",
     "text": [
      "55.29\n"
     ]
    }
   ],
   "source": [
    "randomforest = RandomForestClassifier()\n",
    "randomforest.fit(x_train, y_train)\n",
    "y_pred = randomforest.predict(x_test)\n",
    "accuracy_randomforest = round(accuracy_score(y_pred, y_test) * 100, 2)\n",
    "print(accuracy_randomforest)"
   ]
  },
  {
   "cell_type": "code",
   "execution_count": 27,
   "id": "b615e4f9",
   "metadata": {
    "execution": {
     "iopub.execute_input": "2023-05-16T05:38:55.136251Z",
     "iopub.status.busy": "2023-05-16T05:38:55.135136Z",
     "iopub.status.idle": "2023-05-16T05:38:55.158085Z",
     "shell.execute_reply": "2023-05-16T05:38:55.156730Z"
    },
    "papermill": {
     "duration": 0.043542,
     "end_time": "2023-05-16T05:38:55.160791",
     "exception": false,
     "start_time": "2023-05-16T05:38:55.117249",
     "status": "completed"
    },
    "tags": []
   },
   "outputs": [],
   "source": [
    "logit_preds_test = pd.DataFrame(y_pred).mode(axis = 0).loc[0, ]\n",
    "\n",
    "submission['quality'] = logit_preds_test.astype(int)\n",
    "\n",
    "submission.to_csv('randomsubmission3.csv', index = False)"
   ]
  }
 ],
 "metadata": {
  "kernelspec": {
   "display_name": "Python 3",
   "language": "python",
   "name": "python3"
  },
  "language_info": {
   "codemirror_mode": {
    "name": "ipython",
    "version": 3
   },
   "file_extension": ".py",
   "mimetype": "text/x-python",
   "name": "python",
   "nbconvert_exporter": "python",
   "pygments_lexer": "ipython3",
   "version": "3.10.10"
  },
  "papermill": {
   "default_parameters": {},
   "duration": 19.269811,
   "end_time": "2023-05-16T05:38:56.201013",
   "environment_variables": {},
   "exception": null,
   "input_path": "__notebook__.ipynb",
   "output_path": "__notebook__.ipynb",
   "parameters": {},
   "start_time": "2023-05-16T05:38:36.931202",
   "version": "2.4.0"
  }
 },
 "nbformat": 4,
 "nbformat_minor": 5
}
